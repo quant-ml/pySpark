{
  "nbformat": 4,
  "nbformat_minor": 0,
  "metadata": {
    "colab": {
      "name": "pySparkMl.ipynb",
      "provenance": []
    },
    "kernelspec": {
      "name": "python3",
      "display_name": "Python 3"
    }
  },
  "cells": [
    {
      "cell_type": "code",
      "metadata": {
        "colab": {
          "base_uri": "https://localhost:8080/"
        },
        "id": "RFYFw-gBO6US",
        "outputId": "f74e5770-d927-4724-9de8-474e113a535d"
      },
      "source": [
        "from google.colab import drive\r\n",
        "drive.mount('/content/d')"
      ],
      "execution_count": 6,
      "outputs": [
        {
          "output_type": "stream",
          "text": [
            "Mounted at /content/d\n"
          ],
          "name": "stdout"
        }
      ]
    },
    {
      "cell_type": "code",
      "metadata": {
        "colab": {
          "base_uri": "https://localhost:8080/"
        },
        "id": "-S4tAtzaN4zf",
        "outputId": "88e7cffa-c81a-45bc-ea85-3f57216ff1b7"
      },
      "source": [
        "# build & inititate the environment\r\n",
        "!apt-get update\r\n",
        "!apt-get install openjdk-8-jdk-headless -qq > /dev/null\r\n",
        "!wget http://mirror.klaus-uwe.me/apache/spark/spark-2.4.7/spark-2.4.7-bin-hadoop2.7.tgz\r\n",
        "!tar xf spark-2.4.7-bin-hadoop2.7.tgz\r\n",
        "!pip install -q findspark\r\n",
        "!update-alternatives --set java /usr/lib/jvm/java-8-openjdk-amd64/jre/bin/java\r\n",
        "!java -version\r\n",
        "\r\n",
        "!pip install sparkdl\r\n",
        "!pip install tensorframes\r\n",
        "!pip install kafka-python\r\n",
        "!pip install tensorflowonspark\r\n",
        "\r\n",
        "import os\r\n",
        "import findspark\r\n",
        "import itertools\r\n",
        "\r\n",
        "import numpy as np\r\n",
        "import pandas as pd\r\n",
        "\r\n",
        "from sklearn.preprocessing import StandardScaler\r\n",
        "from sklearn.model_selection import train_test_split\r\n",
        "from sklearn.utils import resample\r\n",
        "from sklearn.ensemble import RandomForestClassifier\r\n",
        "\r\n",
        "os.environ['JAVA_HOME'] = '/usr/lib/jvm/java-8-openjdk-amd64'\r\n",
        "os.environ['SPARK_HOME'] = 'spark-2.4.7-bin-hadoop2.7'\r\n",
        "\r\n",
        "findspark.init()\r\n",
        "\r\n",
        "from pyspark.sql import SparkSession\r\n",
        "from pyspark.sql.types import IntegerType, StringType\r\n",
        "from pyspark.ml import Pipeline\r\n",
        "from pyspark.ml.feature import VectorIndexer, VectorAssembler, StringIndexer, OneHotEncoderEstimator, MinMaxScaler\r\n",
        "from pyspark.ml.classification import RandomForestClassifier, GBTClassifier, MultilayerPerceptronClassifier\r\n",
        "from pyspark.sql.types import StringType\r\n",
        "from pyspark.sql.functions import col, when, lit\r\n",
        "\r\n",
        "spark = SparkSession.builder.master('local[*]').getOrCreate()"
      ],
      "execution_count": 1,
      "outputs": [
        {
          "output_type": "stream",
          "text": [
            "\r0% [Working]\r            \rIgn:1 https://developer.download.nvidia.com/compute/cuda/repos/ubuntu1804/x86_64  InRelease\n",
            "\r0% [Waiting for headers] [Waiting for headers] [Waiting for headers] [Waiting f\r                                                                               \rGet:2 https://cloud.r-project.org/bin/linux/ubuntu bionic-cran40/ InRelease [3,626 B]\n",
            "\r0% [Waiting for headers] [Waiting for headers] [2 InRelease 0 B/3,626 B 0%] [Wa\r0% [Waiting for headers] [Waiting for headers] [Waiting for headers] [Waiting f\r0% [2 InRelease gpgv 3,626 B] [Waiting for headers] [Waiting for headers] [Wait\r                                                                               \rGet:3 http://security.ubuntu.com/ubuntu bionic-security InRelease [88.7 kB]\n",
            "\r                                                                               \rGet:4 http://ppa.launchpad.net/c2d4u.team/c2d4u4.0+/ubuntu bionic InRelease [15.9 kB]\n",
            "\r0% [2 InRelease gpgv 3,626 B] [Waiting for headers] [3 InRelease 14.2 kB/88.7 k\r                                                                               \rHit:5 http://archive.ubuntu.com/ubuntu bionic InRelease\n",
            "\r0% [2 InRelease gpgv 3,626 B] [Waiting for headers] [3 InRelease 14.2 kB/88.7 k\r                                                                               \rIgn:6 https://developer.download.nvidia.com/compute/machine-learning/repos/ubuntu1804/x86_64  InRelease\n",
            "\r0% [2 InRelease gpgv 3,626 B] [Waiting for headers] [3 InRelease 14.2 kB/88.7 k\r                                                                               \rHit:7 https://developer.download.nvidia.com/compute/cuda/repos/ubuntu1804/x86_64  Release\n",
            "\r0% [2 InRelease gpgv 3,626 B] [Waiting for headers] [3 InRelease 14.2 kB/88.7 k\r                                                                               \rHit:8 https://developer.download.nvidia.com/compute/machine-learning/repos/ubuntu1804/x86_64  Release\n",
            "Get:9 http://archive.ubuntu.com/ubuntu bionic-updates InRelease [88.7 kB]\n",
            "Hit:10 http://ppa.launchpad.net/cran/libgit2/ubuntu bionic InRelease\n",
            "Get:11 http://archive.ubuntu.com/ubuntu bionic-backports InRelease [74.6 kB]\n",
            "Hit:12 http://ppa.launchpad.net/graphics-drivers/ppa/ubuntu bionic InRelease\n",
            "Get:15 http://ppa.launchpad.net/c2d4u.team/c2d4u4.0+/ubuntu bionic/main Sources [1,716 kB]\n",
            "Get:16 http://archive.ubuntu.com/ubuntu bionic-updates/main amd64 Packages [2,321 kB]\n",
            "Get:17 http://ppa.launchpad.net/c2d4u.team/c2d4u4.0+/ubuntu bionic/main amd64 Packages [878 kB]\n",
            "Get:18 http://archive.ubuntu.com/ubuntu bionic-updates/universe amd64 Packages [2,151 kB]\n",
            "Fetched 7,338 kB in 3s (2,650 kB/s)\n",
            "Reading package lists... Done\n",
            "--2021-01-25 15:45:40--  http://mirror.klaus-uwe.me/apache/spark/spark-2.4.7/spark-2.4.7-bin-hadoop2.7.tgz\n",
            "Resolving mirror.klaus-uwe.me (mirror.klaus-uwe.me)... 94.130.201.139, 2a01:4f8:13b:228c::2\n",
            "Connecting to mirror.klaus-uwe.me (mirror.klaus-uwe.me)|94.130.201.139|:80... connected.\n",
            "HTTP request sent, awaiting response... 200 OK\n",
            "Length: 233333392 (223M) [application/octet-stream]\n",
            "Saving to: ‘spark-2.4.7-bin-hadoop2.7.tgz’\n",
            "\n",
            "spark-2.4.7-bin-had 100%[===================>] 222.52M  7.33MB/s    in 36s     \n",
            "\n",
            "2021-01-25 15:46:16 (6.19 MB/s) - ‘spark-2.4.7-bin-hadoop2.7.tgz’ saved [233333392/233333392]\n",
            "\n",
            "update-alternatives: using /usr/lib/jvm/java-8-openjdk-amd64/jre/bin/java to provide /usr/bin/java (java) in manual mode\n",
            "openjdk version \"1.8.0_275\"\n",
            "OpenJDK Runtime Environment (build 1.8.0_275-8u275-b01-0ubuntu1~18.04-b01)\n",
            "OpenJDK 64-Bit Server VM (build 25.275-b01, mixed mode)\n",
            "Collecting sparkdl\n",
            "\u001b[?25l  Downloading https://files.pythonhosted.org/packages/70/e6/c520f801b945f3d03dbf47e1abb7a454cda328d1592f9854dcec69bed097/sparkdl-0.2.2-py3-none-any.whl (99kB)\n",
            "\u001b[K     |████████████████████████████████| 102kB 4.1MB/s \n",
            "\u001b[?25hInstalling collected packages: sparkdl\n",
            "Successfully installed sparkdl-0.2.2\n",
            "Collecting tensorframes\n",
            "  Downloading https://files.pythonhosted.org/packages/59/ae/e8607d0bc5d722694250dcfce59cc9d530e93406079c7d1bf4cb4bbe9d9a/tensorframes-0.2.9-py3-none-any.whl\n",
            "Installing collected packages: tensorframes\n",
            "Successfully installed tensorframes-0.2.9\n",
            "Collecting kafka-python\n",
            "\u001b[?25l  Downloading https://files.pythonhosted.org/packages/75/68/dcb0db055309f680ab2931a3eeb22d865604b638acf8c914bedf4c1a0c8c/kafka_python-2.0.2-py2.py3-none-any.whl (246kB)\n",
            "\u001b[K     |████████████████████████████████| 256kB 4.3MB/s \n",
            "\u001b[?25hInstalling collected packages: kafka-python\n",
            "Successfully installed kafka-python-2.0.2\n",
            "Collecting tensorflowonspark\n",
            "\u001b[?25l  Downloading https://files.pythonhosted.org/packages/4c/b9/fccab86b54dadc6365ff62a2b7d92ae4f71a736fab79fdab9278e0ee9141/tensorflowonspark-2.2.2-py2.py3-none-any.whl (44kB)\n",
            "\u001b[K     |████████████████████████████████| 51kB 2.9MB/s \n",
            "\u001b[?25hRequirement already satisfied: setuptools>38.0 in /usr/local/lib/python3.6/dist-packages (from tensorflowonspark) (51.3.3)\n",
            "Installing collected packages: tensorflowonspark\n",
            "Successfully installed tensorflowonspark-2.2.2\n"
          ],
          "name": "stdout"
        }
      ]
    },
    {
      "cell_type": "code",
      "metadata": {
        "colab": {
          "base_uri": "https://localhost:8080/"
        },
        "id": "7za9kP9QOCc3",
        "outputId": "30bfd61c-ca4b-4982-958e-caba34ceeb5d"
      },
      "source": [
        "# downlaod kaggle api & data \r\n",
        "!pip install -q kaggle\r\n",
        "!mkdir -p ~/.kaggle\r\n",
        "!cp 'd/MyDrive/kaggle/kaggle.json' ~/.kaggle/\r\n",
        "!kaggle datasets download -d becksddf/churn-in-telecoms-dataset\r\n",
        "!unzip churn-in-telecoms-dataset.zip\r\n",
        "!ls"
      ],
      "execution_count": 7,
      "outputs": [
        {
          "output_type": "stream",
          "text": [
            "Downloading churn-in-telecoms-dataset.zip to /content\n",
            "\r  0% 0.00/116k [00:00<?, ?B/s]\n",
            "\r100% 116k/116k [00:00<00:00, 41.1MB/s]\n",
            "Archive:  churn-in-telecoms-dataset.zip\n",
            "  inflating: bigml_59c28831336c6604c800002a.csv  \n",
            "bigml_59c28831336c6604c800002a.csv  d\t\t spark-2.4.7-bin-hadoop2.7\n",
            "churn-in-telecoms-dataset.zip\t    sample_data  spark-2.4.7-bin-hadoop2.7.tgz\n"
          ],
          "name": "stdout"
        }
      ]
    },
    {
      "cell_type": "code",
      "metadata": {
        "colab": {
          "base_uri": "https://localhost:8080/"
        },
        "id": "_vIiRrlsOJSx",
        "outputId": "9ad77c6d-a44a-404f-e19d-7f66bce470ec"
      },
      "source": [
        "# read data to spark dataframe\r\n",
        "df = spark.read.csv(\r\n",
        "    'bigml_59c28831336c6604c800002a.csv',\r\n",
        "        inferSchema=True,\r\n",
        "    header=True\r\n",
        ")\r\n",
        "df.show()"
      ],
      "execution_count": 8,
      "outputs": [
        {
          "output_type": "stream",
          "text": [
            "+-----+--------------+---------+------------+------------------+---------------+---------------------+-----------------+---------------+----------------+-----------------+---------------+----------------+-------------------+-----------------+------------------+------------------+----------------+-----------------+----------------------+-----+\n",
            "|state|account length|area code|phone number|international plan|voice mail plan|number vmail messages|total day minutes|total day calls|total day charge|total eve minutes|total eve calls|total eve charge|total night minutes|total night calls|total night charge|total intl minutes|total intl calls|total intl charge|customer service calls|churn|\n",
            "+-----+--------------+---------+------------+------------------+---------------+---------------------+-----------------+---------------+----------------+-----------------+---------------+----------------+-------------------+-----------------+------------------+------------------+----------------+-----------------+----------------------+-----+\n",
            "|   KS|           128|      415|    382-4657|                no|            yes|                   25|            265.1|            110|           45.07|            197.4|             99|           16.78|              244.7|               91|             11.01|              10.0|               3|              2.7|                     1|false|\n",
            "|   OH|           107|      415|    371-7191|                no|            yes|                   26|            161.6|            123|           27.47|            195.5|            103|           16.62|              254.4|              103|             11.45|              13.7|               3|              3.7|                     1|false|\n",
            "|   NJ|           137|      415|    358-1921|                no|             no|                    0|            243.4|            114|           41.38|            121.2|            110|            10.3|              162.6|              104|              7.32|              12.2|               5|             3.29|                     0|false|\n",
            "|   OH|            84|      408|    375-9999|               yes|             no|                    0|            299.4|             71|            50.9|             61.9|             88|            5.26|              196.9|               89|              8.86|               6.6|               7|             1.78|                     2|false|\n",
            "|   OK|            75|      415|    330-6626|               yes|             no|                    0|            166.7|            113|           28.34|            148.3|            122|           12.61|              186.9|              121|              8.41|              10.1|               3|             2.73|                     3|false|\n",
            "|   AL|           118|      510|    391-8027|               yes|             no|                    0|            223.4|             98|           37.98|            220.6|            101|           18.75|              203.9|              118|              9.18|               6.3|               6|              1.7|                     0|false|\n",
            "|   MA|           121|      510|    355-9993|                no|            yes|                   24|            218.2|             88|           37.09|            348.5|            108|           29.62|              212.6|              118|              9.57|               7.5|               7|             2.03|                     3|false|\n",
            "|   MO|           147|      415|    329-9001|               yes|             no|                    0|            157.0|             79|           26.69|            103.1|             94|            8.76|              211.8|               96|              9.53|               7.1|               6|             1.92|                     0|false|\n",
            "|   LA|           117|      408|    335-4719|                no|             no|                    0|            184.5|             97|           31.37|            351.6|             80|           29.89|              215.8|               90|              9.71|               8.7|               4|             2.35|                     1|false|\n",
            "|   WV|           141|      415|    330-8173|               yes|            yes|                   37|            258.6|             84|           43.96|            222.0|            111|           18.87|              326.4|               97|             14.69|              11.2|               5|             3.02|                     0|false|\n",
            "|   IN|            65|      415|    329-6603|                no|             no|                    0|            129.1|            137|           21.95|            228.5|             83|           19.42|              208.8|              111|               9.4|              12.7|               6|             3.43|                     4| true|\n",
            "|   RI|            74|      415|    344-9403|                no|             no|                    0|            187.7|            127|           31.91|            163.4|            148|           13.89|              196.0|               94|              8.82|               9.1|               5|             2.46|                     0|false|\n",
            "|   IA|           168|      408|    363-1107|                no|             no|                    0|            128.8|             96|            21.9|            104.9|             71|            8.92|              141.1|              128|              6.35|              11.2|               2|             3.02|                     1|false|\n",
            "|   MT|            95|      510|    394-8006|                no|             no|                    0|            156.6|             88|           26.62|            247.6|             75|           21.05|              192.3|              115|              8.65|              12.3|               5|             3.32|                     3|false|\n",
            "|   IA|            62|      415|    366-9238|                no|             no|                    0|            120.7|             70|           20.52|            307.2|             76|           26.11|              203.0|               99|              9.14|              13.1|               6|             3.54|                     4|false|\n",
            "|   NY|           161|      415|    351-7269|                no|             no|                    0|            332.9|             67|           56.59|            317.8|             97|           27.01|              160.6|              128|              7.23|               5.4|               9|             1.46|                     4| true|\n",
            "|   ID|            85|      408|    350-8884|                no|            yes|                   27|            196.4|            139|           33.39|            280.9|             90|           23.88|               89.3|               75|              4.02|              13.8|               4|             3.73|                     1|false|\n",
            "|   VT|            93|      510|    386-2923|                no|             no|                    0|            190.7|            114|           32.42|            218.2|            111|           18.55|              129.6|              121|              5.83|               8.1|               3|             2.19|                     3|false|\n",
            "|   VA|            76|      510|    356-2992|                no|            yes|                   33|            189.7|             66|           32.25|            212.8|             65|           18.09|              165.7|              108|              7.46|              10.0|               5|              2.7|                     1|false|\n",
            "|   TX|            73|      415|    373-2782|                no|             no|                    0|            224.4|             90|           38.15|            159.5|             88|           13.56|              192.8|               74|              8.68|              13.0|               2|             3.51|                     1|false|\n",
            "+-----+--------------+---------+------------+------------------+---------------+---------------------+-----------------+---------------+----------------+-----------------+---------------+----------------+-------------------+-----------------+------------------+------------------+----------------+-----------------+----------------------+-----+\n",
            "only showing top 20 rows\n",
            "\n"
          ],
          "name": "stdout"
        }
      ]
    },
    {
      "cell_type": "code",
      "metadata": {
        "colab": {
          "base_uri": "https://localhost:8080/"
        },
        "id": "HE55h_q2OLGf",
        "outputId": "eb2340de-0765-4641-edfd-560449b5f98d"
      },
      "source": [
        "# drop unused columns\r\n",
        "df = df.drop('phone number')\r\n",
        "df.show()"
      ],
      "execution_count": 9,
      "outputs": [
        {
          "output_type": "stream",
          "text": [
            "+-----+--------------+---------+------------------+---------------+---------------------+-----------------+---------------+----------------+-----------------+---------------+----------------+-------------------+-----------------+------------------+------------------+----------------+-----------------+----------------------+-----+\n",
            "|state|account length|area code|international plan|voice mail plan|number vmail messages|total day minutes|total day calls|total day charge|total eve minutes|total eve calls|total eve charge|total night minutes|total night calls|total night charge|total intl minutes|total intl calls|total intl charge|customer service calls|churn|\n",
            "+-----+--------------+---------+------------------+---------------+---------------------+-----------------+---------------+----------------+-----------------+---------------+----------------+-------------------+-----------------+------------------+------------------+----------------+-----------------+----------------------+-----+\n",
            "|   KS|           128|      415|                no|            yes|                   25|            265.1|            110|           45.07|            197.4|             99|           16.78|              244.7|               91|             11.01|              10.0|               3|              2.7|                     1|false|\n",
            "|   OH|           107|      415|                no|            yes|                   26|            161.6|            123|           27.47|            195.5|            103|           16.62|              254.4|              103|             11.45|              13.7|               3|              3.7|                     1|false|\n",
            "|   NJ|           137|      415|                no|             no|                    0|            243.4|            114|           41.38|            121.2|            110|            10.3|              162.6|              104|              7.32|              12.2|               5|             3.29|                     0|false|\n",
            "|   OH|            84|      408|               yes|             no|                    0|            299.4|             71|            50.9|             61.9|             88|            5.26|              196.9|               89|              8.86|               6.6|               7|             1.78|                     2|false|\n",
            "|   OK|            75|      415|               yes|             no|                    0|            166.7|            113|           28.34|            148.3|            122|           12.61|              186.9|              121|              8.41|              10.1|               3|             2.73|                     3|false|\n",
            "|   AL|           118|      510|               yes|             no|                    0|            223.4|             98|           37.98|            220.6|            101|           18.75|              203.9|              118|              9.18|               6.3|               6|              1.7|                     0|false|\n",
            "|   MA|           121|      510|                no|            yes|                   24|            218.2|             88|           37.09|            348.5|            108|           29.62|              212.6|              118|              9.57|               7.5|               7|             2.03|                     3|false|\n",
            "|   MO|           147|      415|               yes|             no|                    0|            157.0|             79|           26.69|            103.1|             94|            8.76|              211.8|               96|              9.53|               7.1|               6|             1.92|                     0|false|\n",
            "|   LA|           117|      408|                no|             no|                    0|            184.5|             97|           31.37|            351.6|             80|           29.89|              215.8|               90|              9.71|               8.7|               4|             2.35|                     1|false|\n",
            "|   WV|           141|      415|               yes|            yes|                   37|            258.6|             84|           43.96|            222.0|            111|           18.87|              326.4|               97|             14.69|              11.2|               5|             3.02|                     0|false|\n",
            "|   IN|            65|      415|                no|             no|                    0|            129.1|            137|           21.95|            228.5|             83|           19.42|              208.8|              111|               9.4|              12.7|               6|             3.43|                     4| true|\n",
            "|   RI|            74|      415|                no|             no|                    0|            187.7|            127|           31.91|            163.4|            148|           13.89|              196.0|               94|              8.82|               9.1|               5|             2.46|                     0|false|\n",
            "|   IA|           168|      408|                no|             no|                    0|            128.8|             96|            21.9|            104.9|             71|            8.92|              141.1|              128|              6.35|              11.2|               2|             3.02|                     1|false|\n",
            "|   MT|            95|      510|                no|             no|                    0|            156.6|             88|           26.62|            247.6|             75|           21.05|              192.3|              115|              8.65|              12.3|               5|             3.32|                     3|false|\n",
            "|   IA|            62|      415|                no|             no|                    0|            120.7|             70|           20.52|            307.2|             76|           26.11|              203.0|               99|              9.14|              13.1|               6|             3.54|                     4|false|\n",
            "|   NY|           161|      415|                no|             no|                    0|            332.9|             67|           56.59|            317.8|             97|           27.01|              160.6|              128|              7.23|               5.4|               9|             1.46|                     4| true|\n",
            "|   ID|            85|      408|                no|            yes|                   27|            196.4|            139|           33.39|            280.9|             90|           23.88|               89.3|               75|              4.02|              13.8|               4|             3.73|                     1|false|\n",
            "|   VT|            93|      510|                no|             no|                    0|            190.7|            114|           32.42|            218.2|            111|           18.55|              129.6|              121|              5.83|               8.1|               3|             2.19|                     3|false|\n",
            "|   VA|            76|      510|                no|            yes|                   33|            189.7|             66|           32.25|            212.8|             65|           18.09|              165.7|              108|              7.46|              10.0|               5|              2.7|                     1|false|\n",
            "|   TX|            73|      415|                no|             no|                    0|            224.4|             90|           38.15|            159.5|             88|           13.56|              192.8|               74|              8.68|              13.0|               2|             3.51|                     1|false|\n",
            "+-----+--------------+---------+------------------+---------------+---------------------+-----------------+---------------+----------------+-----------------+---------------+----------------+-------------------+-----------------+------------------+------------------+----------------+-----------------+----------------------+-----+\n",
            "only showing top 20 rows\n",
            "\n"
          ],
          "name": "stdout"
        }
      ]
    },
    {
      "cell_type": "code",
      "metadata": {
        "colab": {
          "base_uri": "https://localhost:8080/"
        },
        "id": "5hylNMgbONTC",
        "outputId": "5eca0681-d165-4f42-c5bb-b33db09af2a0"
      },
      "source": [
        "# encoding binary features\r\n",
        "df = df.withColumn(\r\n",
        "    'international plan', when(df['international plan'] == 'yes', lit(1)).otherwise(lit(0))\r\n",
        ")\r\n",
        "df = df.withColumn(\r\n",
        "    'voice mail plan', when(df['voice mail plan'] == 'yes', lit(1)).otherwise(lit(0))\r\n",
        ")\r\n",
        "df = df.withColumn(\r\n",
        "    'churn', when(df['churn'] == 'true', lit(1)).otherwise(lit(0))\r\n",
        ")\r\n",
        "df.show()"
      ],
      "execution_count": 10,
      "outputs": [
        {
          "output_type": "stream",
          "text": [
            "+-----+--------------+---------+------------------+---------------+---------------------+-----------------+---------------+----------------+-----------------+---------------+----------------+-------------------+-----------------+------------------+------------------+----------------+-----------------+----------------------+-----+\n",
            "|state|account length|area code|international plan|voice mail plan|number vmail messages|total day minutes|total day calls|total day charge|total eve minutes|total eve calls|total eve charge|total night minutes|total night calls|total night charge|total intl minutes|total intl calls|total intl charge|customer service calls|churn|\n",
            "+-----+--------------+---------+------------------+---------------+---------------------+-----------------+---------------+----------------+-----------------+---------------+----------------+-------------------+-----------------+------------------+------------------+----------------+-----------------+----------------------+-----+\n",
            "|   KS|           128|      415|                 0|              1|                   25|            265.1|            110|           45.07|            197.4|             99|           16.78|              244.7|               91|             11.01|              10.0|               3|              2.7|                     1|    0|\n",
            "|   OH|           107|      415|                 0|              1|                   26|            161.6|            123|           27.47|            195.5|            103|           16.62|              254.4|              103|             11.45|              13.7|               3|              3.7|                     1|    0|\n",
            "|   NJ|           137|      415|                 0|              0|                    0|            243.4|            114|           41.38|            121.2|            110|            10.3|              162.6|              104|              7.32|              12.2|               5|             3.29|                     0|    0|\n",
            "|   OH|            84|      408|                 1|              0|                    0|            299.4|             71|            50.9|             61.9|             88|            5.26|              196.9|               89|              8.86|               6.6|               7|             1.78|                     2|    0|\n",
            "|   OK|            75|      415|                 1|              0|                    0|            166.7|            113|           28.34|            148.3|            122|           12.61|              186.9|              121|              8.41|              10.1|               3|             2.73|                     3|    0|\n",
            "|   AL|           118|      510|                 1|              0|                    0|            223.4|             98|           37.98|            220.6|            101|           18.75|              203.9|              118|              9.18|               6.3|               6|              1.7|                     0|    0|\n",
            "|   MA|           121|      510|                 0|              1|                   24|            218.2|             88|           37.09|            348.5|            108|           29.62|              212.6|              118|              9.57|               7.5|               7|             2.03|                     3|    0|\n",
            "|   MO|           147|      415|                 1|              0|                    0|            157.0|             79|           26.69|            103.1|             94|            8.76|              211.8|               96|              9.53|               7.1|               6|             1.92|                     0|    0|\n",
            "|   LA|           117|      408|                 0|              0|                    0|            184.5|             97|           31.37|            351.6|             80|           29.89|              215.8|               90|              9.71|               8.7|               4|             2.35|                     1|    0|\n",
            "|   WV|           141|      415|                 1|              1|                   37|            258.6|             84|           43.96|            222.0|            111|           18.87|              326.4|               97|             14.69|              11.2|               5|             3.02|                     0|    0|\n",
            "|   IN|            65|      415|                 0|              0|                    0|            129.1|            137|           21.95|            228.5|             83|           19.42|              208.8|              111|               9.4|              12.7|               6|             3.43|                     4|    1|\n",
            "|   RI|            74|      415|                 0|              0|                    0|            187.7|            127|           31.91|            163.4|            148|           13.89|              196.0|               94|              8.82|               9.1|               5|             2.46|                     0|    0|\n",
            "|   IA|           168|      408|                 0|              0|                    0|            128.8|             96|            21.9|            104.9|             71|            8.92|              141.1|              128|              6.35|              11.2|               2|             3.02|                     1|    0|\n",
            "|   MT|            95|      510|                 0|              0|                    0|            156.6|             88|           26.62|            247.6|             75|           21.05|              192.3|              115|              8.65|              12.3|               5|             3.32|                     3|    0|\n",
            "|   IA|            62|      415|                 0|              0|                    0|            120.7|             70|           20.52|            307.2|             76|           26.11|              203.0|               99|              9.14|              13.1|               6|             3.54|                     4|    0|\n",
            "|   NY|           161|      415|                 0|              0|                    0|            332.9|             67|           56.59|            317.8|             97|           27.01|              160.6|              128|              7.23|               5.4|               9|             1.46|                     4|    1|\n",
            "|   ID|            85|      408|                 0|              1|                   27|            196.4|            139|           33.39|            280.9|             90|           23.88|               89.3|               75|              4.02|              13.8|               4|             3.73|                     1|    0|\n",
            "|   VT|            93|      510|                 0|              0|                    0|            190.7|            114|           32.42|            218.2|            111|           18.55|              129.6|              121|              5.83|               8.1|               3|             2.19|                     3|    0|\n",
            "|   VA|            76|      510|                 0|              1|                   33|            189.7|             66|           32.25|            212.8|             65|           18.09|              165.7|              108|              7.46|              10.0|               5|              2.7|                     1|    0|\n",
            "|   TX|            73|      415|                 0|              0|                    0|            224.4|             90|           38.15|            159.5|             88|           13.56|              192.8|               74|              8.68|              13.0|               2|             3.51|                     1|    0|\n",
            "+-----+--------------+---------+------------------+---------------+---------------------+-----------------+---------------+----------------+-----------------+---------------+----------------+-------------------+-----------------+------------------+------------------+----------------+-----------------+----------------------+-----+\n",
            "only showing top 20 rows\n",
            "\n"
          ],
          "name": "stdout"
        }
      ]
    },
    {
      "cell_type": "code",
      "metadata": {
        "colab": {
          "base_uri": "https://localhost:8080/"
        },
        "id": "U5J4ytpdOOo9",
        "outputId": "b67023b7-aa33-4e75-db5e-141bf35e670c"
      },
      "source": [
        "# encoding categorical features\r\n",
        "print(df.groupBy('state').count().count())\r\n",
        "\r\n",
        "indexers = [StringIndexer(inputCol=column, outputCol=column+\"_NUMERIC\").fit(df) for column in ['state']]\r\n",
        "\r\n",
        "pipeline = Pipeline(stages=indexers)\r\n",
        "df = pipeline.fit(df).transform(df)\r\n",
        "df = df.drop('state')\r\n",
        "df.show()"
      ],
      "execution_count": 11,
      "outputs": [
        {
          "output_type": "stream",
          "text": [
            "51\n",
            "+--------------+---------+------------------+---------------+---------------------+-----------------+---------------+----------------+-----------------+---------------+----------------+-------------------+-----------------+------------------+------------------+----------------+-----------------+----------------------+-----+-------------+\n",
            "|account length|area code|international plan|voice mail plan|number vmail messages|total day minutes|total day calls|total day charge|total eve minutes|total eve calls|total eve charge|total night minutes|total night calls|total night charge|total intl minutes|total intl calls|total intl charge|customer service calls|churn|state_NUMERIC|\n",
            "+--------------+---------+------------------+---------------+---------------------+-----------------+---------------+----------------+-----------------+---------------+----------------+-------------------+-----------------+------------------+------------------+----------------+-----------------+----------------------+-----+-------------+\n",
            "|           128|      415|                 0|              1|                   25|            265.1|            110|           45.07|            197.4|             99|           16.78|              244.7|               91|             11.01|              10.0|               3|              2.7|                     1|    0|         17.0|\n",
            "|           107|      415|                 0|              1|                   26|            161.6|            123|           27.47|            195.5|            103|           16.62|              254.4|              103|             11.45|              13.7|               3|              3.7|                     1|    0|          5.0|\n",
            "|           137|      415|                 0|              0|                    0|            243.4|            114|           41.38|            121.2|            110|            10.3|              162.6|              104|              7.32|              12.2|               5|             3.29|                     0|    0|         18.0|\n",
            "|            84|      408|                 1|              0|                    0|            299.4|             71|            50.9|             61.9|             88|            5.26|              196.9|               89|              8.86|               6.6|               7|             1.78|                     2|    0|          5.0|\n",
            "|            75|      415|                 1|              0|                    0|            166.7|            113|           28.34|            148.3|            122|           12.61|              186.9|              121|              8.41|              10.1|               3|             2.73|                     3|    0|         34.0|\n",
            "|           118|      510|                 1|              0|                    0|            223.4|             98|           37.98|            220.6|            101|           18.75|              203.9|              118|              9.18|               6.3|               6|              1.7|                     0|    0|          3.0|\n",
            "|           121|      510|                 0|              1|                   24|            218.2|             88|           37.09|            348.5|            108|           29.62|              212.6|              118|              9.57|               7.5|               7|             2.03|                     3|    0|         24.0|\n",
            "|           147|      415|                 1|              0|                    0|            157.0|             79|           26.69|            103.1|             94|            8.76|              211.8|               96|              9.53|               7.1|               6|             1.92|                     0|    0|         28.0|\n",
            "|           117|      408|                 0|              0|                    0|            184.5|             97|           31.37|            351.6|             80|           29.89|              215.8|               90|              9.71|               8.7|               4|             2.35|                     1|    0|         47.0|\n",
            "|           141|      415|                 1|              1|                   37|            258.6|             84|           43.96|            222.0|            111|           18.87|              326.4|               97|             14.69|              11.2|               5|             3.02|                     0|    0|          0.0|\n",
            "|            65|      415|                 0|              0|                    0|            129.1|            137|           21.95|            228.5|             83|           19.42|              208.8|              111|               9.4|              12.7|               6|             3.43|                     4|    1|         15.0|\n",
            "|            74|      415|                 0|              0|                    0|            187.7|            127|           31.91|            163.4|            148|           13.89|              196.0|               94|              8.82|               9.1|               5|             2.46|                     0|    0|         25.0|\n",
            "|           168|      408|                 0|              0|                    0|            128.8|             96|            21.9|            104.9|             71|            8.92|              141.1|              128|              6.35|              11.2|               2|             3.02|                     1|    0|         49.0|\n",
            "|            95|      510|                 0|              0|                    0|            156.6|             88|           26.62|            247.6|             75|           21.05|              192.3|              115|              8.65|              12.3|               5|             3.32|                     3|    0|         19.0|\n",
            "|            62|      415|                 0|              0|                    0|            120.7|             70|           20.52|            307.2|             76|           26.11|              203.0|               99|              9.14|              13.1|               6|             3.54|                     4|    0|         49.0|\n",
            "|           161|      415|                 0|              0|                    0|            332.9|             67|           56.59|            317.8|             97|           27.01|              160.6|              128|              7.23|               5.4|               9|             1.46|                     4|    1|          2.0|\n",
            "|            85|      408|                 0|              1|                   27|            196.4|            139|           33.39|            280.9|             90|           23.88|               89.3|               75|              4.02|              13.8|               4|             3.73|                     1|    0|         10.0|\n",
            "|            93|      510|                 0|              0|                    0|            190.7|            114|           32.42|            218.2|            111|           18.55|              129.6|              121|              5.83|               8.1|               3|             2.19|                     3|    0|         11.0|\n",
            "|            76|      510|                 0|              1|                   33|            189.7|             66|           32.25|            212.8|             65|           18.09|              165.7|              108|              7.46|              10.0|               5|              2.7|                     1|    0|          8.0|\n",
            "|            73|      415|                 0|              0|                    0|            224.4|             90|           38.15|            159.5|             88|           13.56|              192.8|               74|              8.68|              13.0|               2|             3.51|                     1|    0|         13.0|\n",
            "+--------------+---------+------------------+---------------+---------------------+-----------------+---------------+----------------+-----------------+---------------+----------------+-------------------+-----------------+------------------+------------------+----------------+-----------------+----------------------+-----+-------------+\n",
            "only showing top 20 rows\n",
            "\n"
          ],
          "name": "stdout"
        }
      ]
    },
    {
      "cell_type": "code",
      "metadata": {
        "colab": {
          "base_uri": "https://localhost:8080/"
        },
        "id": "s-pjiSqTOPyj",
        "outputId": "97d8b010-65de-43a0-9fc0-000f9795f946"
      },
      "source": [
        "# scaling features\r\n",
        "columnsToScale = [clm for clm in df.columns if clm != 'churn']\r\n",
        "# first convert to vectors\r\n",
        "assemblers = [VectorAssembler(\r\n",
        "    inputCols=[col], outputCol=col + '_vec'\r\n",
        "    ) for col in columnsToScale\r\n",
        "]\r\n",
        "# second scale\r\n",
        "scalers = [MinMaxScaler(\r\n",
        "    inputCol=col + '_vec', outputCol = col + '_scaled'\r\n",
        "    ) for col in columnsToScale\r\n",
        "]\r\n",
        "# perform through pipeline\r\n",
        "pipeline = Pipeline(stages = assemblers + scalers)\r\n",
        "scalerModel = pipeline.fit(df)\r\n",
        "scaledData = scalerModel.transform(df)\r\n",
        "## drop initital columns and vectors\r\n",
        "scaledData = scaledData.select(\r\n",
        "    [clm for clm in scaledData.columns if clm not in columnsToScale]\r\n",
        ")\r\n",
        "scaledData = scaledData.select(\r\n",
        "    [clm for clm in scaledData.columns if clm not in [x + '_vec' for x in columnsToScale]]\r\n",
        ")\r\n",
        "\r\n",
        "scaledData.show()"
      ],
      "execution_count": 12,
      "outputs": [
        {
          "output_type": "stream",
          "text": [
            "+-----+---------------------+--------------------+-------------------------+----------------------+----------------------------+------------------------+----------------------+-----------------------+------------------------+----------------------+-----------------------+--------------------------+------------------------+-------------------------+-------------------------+-----------------------+------------------------+-----------------------------+--------------------+\n",
            "|churn|account length_scaled|    area code_scaled|international plan_scaled|voice mail plan_scaled|number vmail messages_scaled|total day minutes_scaled|total day calls_scaled|total day charge_scaled|total eve minutes_scaled|total eve calls_scaled|total eve charge_scaled|total night minutes_scaled|total night calls_scaled|total night charge_scaled|total intl minutes_scaled|total intl calls_scaled|total intl charge_scaled|customer service calls_scaled|state_NUMERIC_scaled|\n",
            "+-----+---------------------+--------------------+-------------------------+----------------------+----------------------------+------------------------+----------------------+-----------------------+------------------------+----------------------+-----------------------+--------------------------+------------------------+-------------------------+-------------------------+-----------------------+------------------------+-----------------------------+--------------------+\n",
            "|    0| [0.5247933884297521]|[0.06862745098039...|                    [0.0]|                 [1.0]|        [0.49019607843137...|    [0.7557012542759407]|  [0.6666666666666666]|    [0.755700871898055]|    [0.5427550178718724]|  [0.5823529411764706]|   [0.5428663862827564]|      [0.5957504034427111]|    [0.4084507042253521]|     [0.5959354453078302]|                    [0.5]|                 [0.15]|                   [0.5]|         [0.1111111111111111]|              [0.34]|\n",
            "|    0| [0.4380165289256198]|[0.06862745098039...|                    [0.0]|                 [1.0]|        [0.5098039215686274]|    [0.46066134549600...|  [0.7454545454545455]|   [0.4605969148222669]|    [0.5375309320868848]|  [0.6058823529411764]|   [0.5376900679391783]|      [0.6218396987627757]|    [0.49295774647887...|     [0.6222355050806934]|     [0.6849999999999999]|                 [0.15]|    [0.6851851851851851]|         [0.1111111111111111]|               [0.1]|\n",
            "|    0| [0.5619834710743802]|[0.06862745098039...|                    [0.0]|                 [0.0]|                       [0.0]|     [0.693842645381984]|  [0.6909090909090909]|     [0.69382964453387]|    [0.33324168270552...|  [0.6470588235294118]|   [0.33322549336784...|      [0.37493275954814...|                   [0.5]|     [0.3753735803945009]|                   [0.61]|                 [0.25]|    [0.6092592592592593]|                        [0.0]|              [0.36]|\n",
            "|    0| [0.34297520661157...|               [0.0]|                    [1.0]|                 [0.0]|                       [0.0]|    [0.8534777651083237]|  [0.4303030303030303]|   [0.8534540576794097]|    [0.1701952158372285]|  [0.5176470588235295]|   [0.17017146554513...|      [0.46718665949435...|    [0.39436619718309...|     [0.46742378959952...|     [0.32999999999999...|                 [0.35]|    [0.3296296296296296]|         [0.2222222222222222]|               [0.1]|\n",
            "|    0| [0.30578512396694...|[0.06862745098039...|                    [1.0]|                 [0.0]|                       [0.0]|    [0.47519954389965...|  [0.6848484848484848]|   [0.47518443997317...|    [0.4077536431124554]|  [0.7176470588235294]|   [0.40795858945325...|      [0.44029047875201...|    [0.6197183098591549]|     [0.44052600119545...|                  [0.505]|                 [0.15]|    [0.5055555555555555]|         [0.3333333333333333]|              [0.68]|\n",
            "|    0| [0.4834710743801653]|               [1.0]|                    [1.0]|                 [0.0]|                       [0.0]|     [0.636830102622577]|   [0.593939393939394]|   [0.6368209255533198]|    [0.6065438548254055]|  [0.5941176470588235]|   [0.6065998058880621]|      [0.48601398601398...|    [0.5985915492957746]|     [0.48655110579796...|                  [0.315]|                  [0.3]|    [0.31481481481481...|                        [0.0]|              [0.06]|\n",
            "|    0| [0.49586776859504...|               [1.0]|                    [0.0]|                 [1.0]|        [0.47058823529411...|    [0.6220068415051311]|  [0.5333333333333333]|   [0.6218980549966466]|     [0.958207313720099]|  [0.6352941176470588]|   [0.9582659333549014]|      [0.5094136632598171]|    [0.5985915492957746]|     [0.5098625224148238]|                  [0.375]|                 [0.35]|    [0.3759259259259259]|         [0.3333333333333333]|              [0.48]|\n",
            "|    0| [0.6033057851239669]|[0.06862745098039...|                    [1.0]|                 [0.0]|                       [0.0]|    [0.44754846066134...|  [0.47878787878787...|   [0.4475184439973173]|    [0.2834753918064339]|  [0.5529411764705883]|   [0.2834034293109026]|      [0.5072619688004304]|    [0.44366197183098...|     [0.5074716078900178]|                  [0.355]|                  [0.3]|    [0.3555555555555555]|                        [0.0]|              [0.56]|\n",
            "|    0| [0.4793388429752066]|               [0.0]|                    [0.0]|                 [0.0]|                       [0.0]|    [0.5259407069555302]|  [0.5878787878787879]|   [0.5259892689470155]|    [0.9667308221061315]|  [0.47058823529411...|   [0.9670009705596895]|      [0.5180204410973642]|    [0.4014084507042254]|     [0.5182307232516439]|     [0.43499999999999...|                  [0.2]|    [0.4351851851851852]|         [0.1111111111111111]|              [0.94]|\n",
            "|    0| [0.5785123966942148]|[0.06862745098039...|                    [1.0]|                 [1.0]|        [0.7254901960784313]|    [0.7371721778791335]|   [0.509090909090909]|   [0.7370892018779343]|    [0.6103931811932912]|  [0.6529411764705882]|   [0.6104820446457457]|      [0.8154922001075847]|    [0.4507042253521127]|      [0.815899581589958]|     [0.5599999999999999]|                 [0.25]|    [0.5592592592592592]|                        [0.0]|               [0.0]|\n",
            "|    1| [0.2644628099173554]|[0.06862745098039...|                    [0.0]|                 [0.0]|                       [0.0]|    [0.36801596351197...|  [0.8303030303030303]|   [0.3680415828303152]|    [0.6282650536156172]|  [0.48823529411764...|   [0.6282756389517956]|        [0.49919311457773]|    [0.5492957746478874]|     [0.4997011356843992]|                  [0.635]|                  [0.3]|    [0.6351851851851852]|         [0.4444444444444444]|               [0.3]|\n",
            "|    0| [0.30165289256198...|[0.06862745098039...|                    [0.0]|                 [0.0]|                       [0.0]|    [0.5350627137970353]|  [0.7696969696969697]|   [0.5350435949027498]|     [0.449271377508936]|  [0.8705882352941177]|   [0.4493691362018764]|      [0.4647660032275417]|    [0.4295774647887324]|     [0.4650328750747161]|     [0.45499999999999...|                 [0.25]|    [0.4555555555555555]|                        [0.0]|               [0.5]|\n",
            "|    0| [0.6900826446280992]|               [0.0]|                    [0.0]|                 [0.0]|                       [0.0]|    [0.36716077537058...|  [0.5818181818181818]|   [0.36720321931589...|    [0.28842452570800...|  [0.4176470588235294]|   [0.28857974765448...|      [0.3171059709521248]|    [0.6690140845070423]|     [0.31739390316796...|     [0.5599999999999999]|                  [0.1]|    [0.5592592592592592]|         [0.1111111111111111]|              [0.98]|\n",
            "|    0| [0.3884297520661157]|               [1.0]|                    [0.0]|                 [0.0]|                       [0.0]|    [0.4464082098061573]|  [0.5333333333333333]|   [0.44634473507712...|     [0.680780863348914]|  [0.4411764705882353]|   [0.6810093820769978]|      [0.45481441635287...|    [0.5774647887323944]|     [0.4548714883442917]|                  [0.615]|                 [0.25]|    [0.6148148148148147]|         [0.3333333333333333]|              [0.38]|\n",
            "|    0| [0.25206611570247...|[0.06862745098039...|                    [0.0]|                 [0.0]|                       [0.0]|    [0.34407069555302...|  [0.42424242424242...|   [0.3440643863179074]|    [0.8446521858674731]|  [0.4470588235294118]|   [0.8447104496926561]|      [0.4835933297471759]|    [0.4647887323943662]|     [0.48416019127316...|                  [0.655]|                  [0.3]|    [0.6555555555555556]|         [0.4444444444444444]|              [0.98]|\n",
            "|    1| [0.6611570247933884]|[0.06862745098039...|                    [0.0]|                 [0.0]|                       [0.0]|    [0.9489737742303306]|  [0.40606060606060...|   [0.9488598256203891]|    [0.8737970855100358]|  [0.5705882352941176]|   [0.8738272403752831]|      [0.36955352339967...|    [0.6690140845070423]|      [0.369994022713688]|                   [0.27]|                 [0.45]|    [0.27037037037037...|         [0.4444444444444444]|              [0.04]|\n",
            "|    0| [0.34710743801652...|               [0.0]|                    [0.0]|                 [1.0]|        [0.5294117647058824]|    [0.5598631698973774]|  [0.8424242424242424]|   [0.5598591549295775]|    [0.7723398405279076]|  [0.5294117647058824]|   [0.7725655127790358]|      [0.1777837547068316]|    [0.29577464788732...|     [0.17812313209802...|     [0.6900000000000001]|                  [0.2]|    [0.6907407407407407]|         [0.1111111111111111]|               [0.2]|\n",
            "|    0| [0.38016528925619...|               [1.0]|                    [0.0]|                 [0.0]|                       [0.0]|    [0.5436145952109463]|  [0.6909090909090909]|   [0.5435949027498324]|    [0.5999450096233159]|  [0.6529411764705882]|   [0.6001294079585895]|        [0.28617536309844]|    [0.6197183098591549]|     [0.28631201434548...|     [0.40499999999999...|                 [0.15]|    [0.4055555555555555]|         [0.3333333333333333]|              [0.22]|\n",
            "|    0| [0.30991735537190...|               [1.0]|                    [0.0]|                 [1.0]|        [0.6470588235294118]|     [0.540763968072976]|                 [0.4]|   [0.5407444668008048]|    [0.5850976079186143]|  [0.38235294117647...|   [0.5852474927208023]|      [0.3832705755782679]|     [0.528169014084507]|     [0.38374178123132...|                    [0.5]|                 [0.25]|                   [0.5]|         [0.1111111111111111]|              [0.16]|\n",
            "|    0| [0.2975206611570248]|[0.06862745098039...|                    [0.0]|                 [0.0]|                       [0.0]|    [0.6396807297605474]|  [0.5454545454545454]|   [0.6396713615023474]|    [0.4385482540555403]|  [0.5176470588235295]|   [0.43869297961824...|      [0.45615922538999...|    [0.2887323943661972]|      [0.456664674237896]|                   [0.65]|                  [0.1]|    [0.6499999999999999]|         [0.1111111111111111]|              [0.26]|\n",
            "+-----+---------------------+--------------------+-------------------------+----------------------+----------------------------+------------------------+----------------------+-----------------------+------------------------+----------------------+-----------------------+--------------------------+------------------------+-------------------------+-------------------------+-----------------------+------------------------+-----------------------------+--------------------+\n",
            "only showing top 20 rows\n",
            "\n"
          ],
          "name": "stdout"
        }
      ]
    },
    {
      "cell_type": "code",
      "metadata": {
        "colab": {
          "base_uri": "https://localhost:8080/"
        },
        "id": "GvZ6OYstORI_",
        "outputId": "ca2733ce-e582-4b70-deb1-65e3bf6786d0"
      },
      "source": [
        "# join all variables in a single column\r\n",
        "assembler = VectorAssembler(\r\n",
        "    inputCols = [c for c in scaledData.columns if c != 'churn'],\r\n",
        "    outputCol = 'attributes'\r\n",
        ")\r\n",
        "output = assembler.transform(scaledData)\r\n",
        "\r\n",
        "# collecting final dataframe for the model fit\r\n",
        "finalData = output.select('attributes', 'churn')\r\n",
        "finalData.show()"
      ],
      "execution_count": 13,
      "outputs": [
        {
          "output_type": "stream",
          "text": [
            "+--------------------+-----+\n",
            "|          attributes|churn|\n",
            "+--------------------+-----+\n",
            "|[0.52479338842975...|    0|\n",
            "|[0.43801652892561...|    0|\n",
            "|[0.56198347107438...|    0|\n",
            "|[0.34297520661157...|    0|\n",
            "|[0.30578512396694...|    0|\n",
            "|[0.48347107438016...|    0|\n",
            "|[0.49586776859504...|    0|\n",
            "|[0.60330578512396...|    0|\n",
            "|[0.47933884297520...|    0|\n",
            "|[0.57851239669421...|    0|\n",
            "|[0.26446280991735...|    1|\n",
            "|[0.30165289256198...|    0|\n",
            "|[0.69008264462809...|    0|\n",
            "|[0.38842975206611...|    0|\n",
            "|[0.25206611570247...|    0|\n",
            "|[0.66115702479338...|    1|\n",
            "|[0.34710743801652...|    0|\n",
            "|[0.38016528925619...|    0|\n",
            "|[0.30991735537190...|    0|\n",
            "|[0.29752066115702...|    0|\n",
            "+--------------------+-----+\n",
            "only showing top 20 rows\n",
            "\n"
          ],
          "name": "stdout"
        }
      ]
    },
    {
      "cell_type": "code",
      "metadata": {
        "colab": {
          "base_uri": "https://localhost:8080/"
        },
        "id": "AMW5RhXYOSWi",
        "outputId": "c3d6a051-9187-4849-d64c-188c7814d54d"
      },
      "source": [
        "trainData, testData = finalData.randomSplit([.8, .2]) # train test split\r\n",
        "trainData.show()"
      ],
      "execution_count": 14,
      "outputs": [
        {
          "output_type": "stream",
          "text": [
            "+--------------------+-----+\n",
            "|          attributes|churn|\n",
            "+--------------------+-----+\n",
            "|(19,[0,5,6,7,8,9,...|    0|\n",
            "|[0.0,0.0,0.0,0.0,...|    0|\n",
            "|[0.0,0.0,0.0,1.0,...|    0|\n",
            "|[0.0,0.0686274509...|    0|\n",
            "|[0.0,0.0686274509...|    1|\n",
            "|[0.0,0.0686274509...|    0|\n",
            "|[0.0,0.0686274509...|    0|\n",
            "|[0.0,0.0686274509...|    0|\n",
            "|[0.00826446280991...|    0|\n",
            "|[0.00826446280991...|    0|\n",
            "|[0.00826446280991...|    0|\n",
            "|[0.00826446280991...|    0|\n",
            "|[0.00826446280991...|    0|\n",
            "|[0.01239669421487...|    0|\n",
            "|[0.01652892561983...|    0|\n",
            "|[0.02066115702479...|    0|\n",
            "|[0.02479338842975...|    0|\n",
            "|[0.02479338842975...|    0|\n",
            "|[0.02892561983471...|    0|\n",
            "|[0.03305785123966...|    0|\n",
            "+--------------------+-----+\n",
            "only showing top 20 rows\n",
            "\n"
          ],
          "name": "stdout"
        }
      ]
    },
    {
      "cell_type": "code",
      "metadata": {
        "colab": {
          "base_uri": "https://localhost:8080/"
        },
        "id": "w9fkljr8OToB",
        "outputId": "cf90c2c3-2cf8-4c70-f955-9e9a8695aa7e"
      },
      "source": [
        "# random forest classifier\r\n",
        "rf = RandomForestClassifier(featuresCol='attributes', labelCol ='churn', numTrees=10)\r\n",
        "modelRf = rf.fit(trainData)\r\n",
        "predRf = modelRf.transform(testData)\r\n",
        "\r\n",
        "accuracyRf = predRf.withColumn(\r\n",
        "    'accuracyRf', (predRf['churn'] - predRf['prediction'])\r\n",
        ").groupBy().sum().collect()[0][0] / predRf.count()\r\n",
        "\r\n",
        "print(accuracyRf)"
      ],
      "execution_count": 15,
      "outputs": [
        {
          "output_type": "stream",
          "text": [
            "0.14367816091954022\n"
          ],
          "name": "stdout"
        }
      ]
    },
    {
      "cell_type": "code",
      "metadata": {
        "colab": {
          "base_uri": "https://localhost:8080/"
        },
        "id": "ZDjDoCexOUp0",
        "outputId": "39b88bd9-4244-4463-8a85-59e1c1f7e972"
      },
      "source": [
        "# gradient boosted tree classifier\r\n",
        "gbt = GBTClassifier(featuresCol='attributes', labelCol ='churn', maxIter=10)\r\n",
        "modelGbt = gbt.fit(trainData)\r\n",
        "predGbt = modelGbt.transform(testData) \r\n",
        "\r\n",
        "accuracyGbt = predGbt.withColumn(\r\n",
        "    'accuracyGbt', (predGbt['churn'] - predGbt['prediction'])\r\n",
        ").groupBy().sum().collect()[0][0] / predGbt.count()\r\n",
        "\r\n",
        "print(accuracyGbt)"
      ],
      "execution_count": 16,
      "outputs": [
        {
          "output_type": "stream",
          "text": [
            "0.14367816091954022\n"
          ],
          "name": "stdout"
        }
      ]
    },
    {
      "cell_type": "code",
      "metadata": {
        "colab": {
          "base_uri": "https://localhost:8080/"
        },
        "id": "CqwSudqwOVyh",
        "outputId": "c0616290-9d8a-4c2e-9886-f6d7081acf3e"
      },
      "source": [
        "# reindexing columns for the MPC model\r\n",
        "trainData = trainData.selectExpr('attributes as features', 'churn as label')\r\n",
        "testData = testData.selectExpr('attributes as features', 'churn as label')\r\n",
        "print(trainData.columns, testData.columns)\r\n",
        "\r\n",
        "# multilayer perceptron classifier\r\n",
        "mpc = MultilayerPerceptronClassifier(\r\n",
        "    maxIter=100,\r\n",
        "    layers=[19, 5, 4, 2],\r\n",
        "    blockSize=128,\r\n",
        "    seed=42\r\n",
        ")\r\n",
        "modelMpc = mpc.fit(trainData)\r\n",
        "predMpc = modelMpc.transform(testData)\r\n",
        "\r\n",
        "accuracyMpc = predMpc.withColumn(\r\n",
        "    'accuracyGbt', (predMpc['label'] - predMpc['prediction'])\r\n",
        ").groupBy().sum().collect()[0][0] / predMpc.count()\r\n",
        "\r\n",
        "print(accuracyMpc)"
      ],
      "execution_count": 17,
      "outputs": [
        {
          "output_type": "stream",
          "text": [
            "['features', 'label'] ['features', 'label']\n",
            "0.14367816091954022\n"
          ],
          "name": "stdout"
        }
      ]
    },
    {
      "cell_type": "code",
      "metadata": {
        "id": "8mBhfHnzOXg7"
      },
      "source": [
        ""
      ],
      "execution_count": 17,
      "outputs": []
    }
  ]
}